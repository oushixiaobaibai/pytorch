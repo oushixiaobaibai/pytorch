{
 "cells": [
  {
   "cell_type": "code",
   "execution_count": 2,
   "metadata": {},
   "outputs": [],
   "source": [
    "import numpy as np\n",
    "import matplotlib.pyplot as plt\n",
    "from torch import nn,optim\n",
    "from torch.autograd import Variable\n",
    "import torch"
   ]
  },
  {
   "cell_type": "code",
   "execution_count": 3,
   "metadata": {
    "collapsed": true
   },
   "outputs": [],
   "source": [
    "x_data = np.random.rand(100)"
   ]
  },
  {
   "cell_type": "code",
   "execution_count": 4,
   "metadata": {},
   "outputs": [
    {
     "name": "stdout",
     "output_type": "stream",
     "text": [
      "[2.31021006e-01 6.53359771e-01 3.76480795e-01 8.53479419e-02\n",
      " 2.53851624e-01 5.79608928e-01 2.43511533e-01 2.54889446e-01\n",
      " 9.40160726e-01 2.13533078e-01 9.32385661e-01 2.01341589e-01\n",
      " 9.19134556e-01 2.58928989e-01 4.88681956e-01 8.51131897e-01\n",
      " 5.92101333e-01 1.67935865e-01 1.50968551e-01 5.21302433e-01\n",
      " 7.27457488e-01 9.51687051e-01 9.01124708e-01 8.27443068e-01\n",
      " 7.91802284e-01 4.86700771e-01 2.88489792e-02 3.09725746e-01\n",
      " 5.18040572e-02 2.33891942e-01 4.95507482e-01 6.97838513e-01\n",
      " 9.82013656e-02 2.11841747e-01 1.42324454e-01 3.88870594e-01\n",
      " 9.97991504e-01 2.39766688e-01 9.99632115e-01 2.83001636e-01\n",
      " 6.38111631e-01 8.81057421e-01 3.79931685e-01 9.05992058e-01\n",
      " 8.24008906e-01 9.43357561e-01 2.31184182e-01 6.44321251e-01\n",
      " 1.43306331e-01 7.92329203e-02 5.29348969e-04 7.15689923e-01\n",
      " 7.07684903e-01 2.56648320e-01 8.16250526e-01 9.81539502e-01\n",
      " 1.60464038e-01 4.29816017e-01 3.02029141e-01 8.91280214e-01\n",
      " 3.20025162e-01 8.84485016e-01 7.98812991e-01 2.51204455e-01\n",
      " 6.52109699e-01 3.62431728e-01 7.09478896e-01 7.43233817e-01\n",
      " 6.47497094e-01 5.46822639e-01 8.87314791e-01 3.75492162e-01\n",
      " 2.84046222e-01 1.82057570e-01 2.33636732e-01 6.72080075e-01\n",
      " 4.81853663e-02 6.73939010e-01 2.24614059e-03 5.25044021e-01\n",
      " 2.11874184e-01 1.80463227e-01 4.21953685e-01 9.21508228e-01\n",
      " 5.79370230e-01 2.74242714e-01 3.23151531e-01 3.23934624e-01\n",
      " 3.92972106e-01 2.13364110e-01 8.33712721e-01 2.46555718e-01\n",
      " 3.36295025e-01 3.07791274e-01 7.21611937e-01 2.58445362e-01\n",
      " 9.02346887e-01 3.48393528e-01 8.34481312e-01 1.80941478e-01]\n"
     ]
    }
   ],
   "source": [
    "print(x_data)"
   ]
  },
  {
   "cell_type": "code",
   "execution_count": 12,
   "metadata": {
    "collapsed": true
   },
   "outputs": [],
   "source": [
    "noise = np.random.normal(0,0.01,x_data.shape) #正态分布，参数分别表示均值，范围，shape"
   ]
  },
  {
   "cell_type": "code",
   "execution_count": 13,
   "metadata": {},
   "outputs": [],
   "source": [
    "y_data = x_data*0.1 + 0.2 + noise"
   ]
  },
  {
   "cell_type": "code",
   "execution_count": 14,
   "metadata": {},
   "outputs": [
    {
     "data": {
      "text/plain": [
       "<matplotlib.collections.PathCollection at 0x26543413a20>"
      ]
     },
     "execution_count": 14,
     "metadata": {},
     "output_type": "execute_result"
    }
   ],
   "source": [
    "plt.scatter(x_data,y_data)"
   ]
  },
  {
   "cell_type": "code",
   "execution_count": 15,
   "metadata": {},
   "outputs": [
    {
     "data": {
      "image/png": "[encoded data removed]",
      "text/plain": [
       "<Figure size 432x288 with 1 Axes>"
      ]
     },
     "metadata": {},
     "output_type": "display_data"
    }
   ],
   "source": [
    "plt.show()"
   ]
  },
  {
   "cell_type": "code",
   "execution_count": 16,
   "metadata": {
    "collapsed": true
   },
   "outputs": [],
   "source": [
    "x_data = x_data.reshape(-1,1) #-1表示自动匹配多少行，1表示1列，所以产生一个100行1列的向量"
   ]
  },
  {
   "cell_type": "code",
   "execution_count": 18,
   "metadata": {},
   "outputs": [],
   "source": [
    "y_data = y_data.reshape(-1,1)"
   ]
  },
  {
   "cell_type": "code",
   "execution_count": 19,
   "metadata": {
    "collapsed": true
   },
   "outputs": [],
   "source": [
    "#把numpy的数据类型转换成tensor类型"
   ]
  },
  {
   "cell_type": "code",
   "execution_count": 21,
   "metadata": {
    "collapsed": true
   },
   "outputs": [],
   "source": [
    "x_data = torch.FloatTensor(x_data)\n",
    "y_data = torch.FloatTensor(y_data)\n",
    "inputs = Variable(x_data)\n",
    "target = Variable(y_data)"
   ]
  },
  {
   "cell_type": "code",
   "execution_count": 33,
   "metadata": {
    "collapsed": true
   },
   "outputs": [],
   "source": [
    "# 构建神经网络模型\n",
    "# 一般把网络中具有可学习参数的层放在__init__()中\n",
    "class LinearRegression(nn.Module):\n",
    "    # 定义网络结构\n",
    "    def __init__(self):\n",
    "        # 初始化nn.Module\n",
    "        super(LinearRegression, self).__init__()\n",
    "        self.fc = nn.Linear(1,1)\n",
    "        \n",
    "    # 定义网络计算\n",
    "    def forward(self,x):\n",
    "        out = self.fc(x)\n",
    "        return out"
   ]
  },
  {
   "cell_type": "code",
   "execution_count": 34,
   "metadata": {},
   "outputs": [],
   "source": [
    "# 定义模型\n",
    "model = LinearRegression()\n",
    "# 定义代价函数\n",
    "mse_loss = nn.MSELoss()\n",
    "# 定义优化器\n",
    "optimizer = optim.SGD(model.parameters(), lr=0.1)"
   ]
  },
  {
   "cell_type": "code",
   "execution_count": 37,
   "metadata": {},
   "outputs": [
    {
     "name": "stdout",
     "output_type": "stream",
     "text": [
      "name:fc.weight,parameters:Parameter containing:\n",
      "tensor([[0.5054]], requires_grad=True)\n",
      "name:fc.bias,parameters:Parameter containing:\n",
      "tensor([-0.6077], requires_grad=True)\n"
     ]
    }
   ],
   "source": [
    "#查看参数名字和数值（可看可不看）\n",
    "for name, parameters in model.named_parameters():\n",
    "    print('name:{},parameters:{}'.format(name,parameters))"
   ]
  },
  {
   "cell_type": "code",
   "execution_count": 38,
   "metadata": {},
   "outputs": [
    {
     "name": "stdout",
     "output_type": "stream",
     "text": [
      "0 0.39004120230674744\n",
      "200 0.00024097904679365456\n",
      "400 9.557315206620842e-05\n",
      "600 9.499528096057475e-05\n",
      "800 9.499299630988389e-05\n",
      "1000 9.499297448201105e-05\n"
     ]
    }
   ],
   "source": [
    "for i in range(1001):\n",
    "    out = model(inputs)\n",
    "    # 计算loss\n",
    "    loss = mse_loss(out, target)\n",
    "    # 梯度清0\n",
    "    optimizer.zero_grad()\n",
    "    # 计算梯度\n",
    "    loss.backward()\n",
    "    # 修改权值\n",
    "    optimizer.step()\n",
    "    if i%200 == 0:\n",
    "        print(i,loss.item())"
   ]
  },
  {
   "cell_type": "code",
   "execution_count": 39,
   "metadata": {},
   "outputs": [
    {
     "data": {
      "image/png": "[encoded data removed]",
      "text/plain": [
       "<Figure size 432x288 with 1 Axes>"
      ]
     },
     "metadata": {},
     "output_type": "display_data"
    }
   ],
   "source": [
    "y_pred = model(inputs)\n",
    "plt.scatter(x_data,y_data)\n",
    "plt.plot(x_data,y_pred.data.numpy(),'r-',lw=3)\n",
    "plt.show()"
   ]
  },
  {
   "cell_type": "code",
   "execution_count": null,
   "metadata": {
    "collapsed": true
   },
   "outputs": [],
   "source": []
  }
 ],
 "metadata": {
  "kernelspec": {
   "display_name": "Python 3",
   "language": "python",
   "name": "python3"
  },
  "language_info": {
   "codemirror_mode": {
    "name": "ipython",
    "version": 3
   },
   "file_extension": ".py",
   "mimetype": "text/x-python",
   "name": "python",
   "nbconvert_exporter": "python",
   "pygments_lexer": "ipython3",
   "version": "3.6.12"
  }
 },
 "nbformat": 4,
 "nbformat_minor": 2
}
