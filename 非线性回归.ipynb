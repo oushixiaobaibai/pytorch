{
 "cells": [
  {
   "cell_type": "code",
   "execution_count": 2,
   "metadata": {
    "collapsed": true
   },
   "outputs": [],
   "source": [
    "import numpy as np\n",
    "import matplotlib.pyplot as plt\n",
    "from torch import nn,optim\n",
    "from torch.autograd import Variable\n",
    "import torch"
   ]
  },
  {
   "cell_type": "code",
   "execution_count": 3,
   "metadata": {},
   "outputs": [
    {
     "data": {
      "image/png": "[encoded data removed]",
      "text/plain": [
       "<Figure size 432x288 with 1 Axes>"
      ]
     },
     "metadata": {},
     "output_type": "display_data"
    }
   ],
   "source": [
    "x_data = np.linspace(-2,2,200)[:,np.newaxis]\n",
    "noise = np.random.normal(0,0.2,x_data.shape)\n",
    "y_data = np.square(x_data)+noise\n",
    "\n",
    "plt.scatter(x_data,y_data)\n",
    "plt.show()"
   ]
  },
  {
   "cell_type": "code",
   "execution_count": 4,
   "metadata": {
    "collapsed": true
   },
   "outputs": [],
   "source": [
    "x_data = x_data.reshape(-1,1)\n",
    "y_data = y_data.reshape(-1,1)"
   ]
  },
  {
   "cell_type": "code",
   "execution_count": 5,
   "metadata": {
    "collapsed": true
   },
   "outputs": [],
   "source": [
    "# 把numpy数据变成tensor\n",
    "x_data = torch.FloatTensor(x_data)\n",
    "y_data = torch.FloatTensor(y_data)\n",
    "inputs = Variable(x_data)\n",
    "target = Variable(y_data)"
   ]
  },
  {
   "cell_type": "code",
   "execution_count": 8,
   "metadata": {
    "collapsed": true
   },
   "outputs": [],
   "source": [
    "# 构建神经网络模型\n",
    "# 一般把网络中具有可学习参数的层放在__init__()中\n",
    "class LinearRegression(nn.Module):\n",
    "    # 定义网络结构\n",
    "    def __init__(self):\n",
    "        # 初始化nn.Module\n",
    "        super(LinearRegression, self).__init__()\n",
    "        #1-10-1的神经元结构\n",
    "        self.fc1 = nn.Linear(1,10)\n",
    "        self.tanh = nn.Tanh()#激活函数\n",
    "        self.fc2 = nn.Linear(10,1)\n",
    "    # 定义网络计算\n",
    "    def forward(self,x):\n",
    "        x = self.fc1(x)\n",
    "        x = self.tanh(x)\n",
    "        x = self.fc2(x)\n",
    "        return x"
   ]
  },
  {
   "cell_type": "code",
   "execution_count": 9,
   "metadata": {},
   "outputs": [],
   "source": [
    "# 定义模型\n",
    "model = LinearRegression() \n",
    "# 定义代价函数\n",
    "mse_loss = nn.MSELoss()\n",
    "# 定义优化器\n",
    "optimizer = optim.SGD(model.parameters(), lr=0.3)"
   ]
  },
  {
   "cell_type": "code",
   "execution_count": 10,
   "metadata": {},
   "outputs": [
    {
     "name": "stdout",
     "output_type": "stream",
     "text": [
      "name:fc1.weight, param:Parameter containing:\n",
      "tensor([[-0.4438],\n",
      "        [ 0.0717],\n",
      "        [-0.4306],\n",
      "        [-0.2407],\n",
      "        [ 0.9915],\n",
      "        [ 0.7502],\n",
      "        [-0.5616],\n",
      "        [-0.8572],\n",
      "        [ 0.7425],\n",
      "        [-0.8901]], requires_grad=True)\n",
      "name:fc1.bias, param:Parameter containing:\n",
      "tensor([-0.0826, -0.8461,  0.0085,  0.4415, -0.2386,  0.8945,  0.4052, -0.6417,\n",
      "         0.2888,  0.2585], requires_grad=True)\n",
      "name:fc2.weight, param:Parameter containing:\n",
      "tensor([[ 0.1501, -0.1338,  0.1587,  0.1326, -0.0451,  0.0125,  0.1862, -0.0895,\n",
      "         -0.0155,  0.3003]], requires_grad=True)\n",
      "name:fc2.bias, param:Parameter containing:\n",
      "tensor([-0.0071], requires_grad=True)\n"
     ]
    }
   ],
   "source": [
    "for name, parameters in model.named_parameters():\n",
    "    print('name:{}, param:{}'.format(name,parameters))"
   ]
  },
  {
   "cell_type": "code",
   "execution_count": 11,
   "metadata": {},
   "outputs": [
    {
     "name": "stdout",
     "output_type": "stream",
     "text": [
      "0 3.054873466491699\n",
      "200 0.17071594297885895\n",
      "400 0.13969652354717255\n",
      "600 0.111454077064991\n",
      "800 0.09086797386407852\n",
      "1000 0.08336448669433594\n",
      "1200 0.08041173219680786\n",
      "1400 0.07881198078393936\n",
      "1600 0.07749078422784805\n",
      "1800 0.07626011222600937\n",
      "2000 0.07509281486272812\n"
     ]
    }
   ],
   "source": [
    "for i in range(2001):\n",
    "    out = model(inputs)\n",
    "    # 计算loss\n",
    "    loss = mse_loss(out, target)\n",
    "    # 梯度清0\n",
    "    optimizer.zero_grad()\n",
    "    # 计算梯度\n",
    "    loss.backward()\n",
    "    # 修改权值\n",
    "    optimizer.step()\n",
    "    if i%200 == 0:\n",
    "        print(i,loss.item())"
   ]
  },
  {
   "cell_type": "code",
   "execution_count": 12,
   "metadata": {},
   "outputs": [
    {
     "data": {
      "image/png": "[encoded data removed]",
      "text/plain": [
       "<Figure size 432x288 with 1 Axes>"
      ]
     },
     "metadata": {},
     "output_type": "display_data"
    }
   ],
   "source": [
    "y_pred = model(inputs)\n",
    "plt.scatter(x_data,y_data)\n",
    "plt.plot(x_data,y_pred.data.numpy(),'r-',lw=3)\n",
    "plt.show()"
   ]
  },
  {
   "cell_type": "code",
   "execution_count": null,
   "metadata": {
    "collapsed": true
   },
   "outputs": [],
   "source": []
  }
 ],
 "metadata": {
  "kernelspec": {
   "display_name": "Python 3",
   "language": "python",
   "name": "python3"
  },
  "language_info": {
   "codemirror_mode": {
    "name": "ipython",
    "version": 3
   },
   "file_extension": ".py",
   "mimetype": "text/x-python",
   "name": "python",
   "nbconvert_exporter": "python",
   "pygments_lexer": "ipython3",
   "version": "3.6.12"
  }
 },
 "nbformat": 4,
 "nbformat_minor": 1
}
